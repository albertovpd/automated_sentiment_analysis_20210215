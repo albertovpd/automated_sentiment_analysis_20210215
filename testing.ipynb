{
 "cells": [
  {
   "cell_type": "markdown",
   "metadata": {},
   "source": [
    "# Sentiment Analysis project.\n",
    "\n",
    "I have requested data from **The Gdelt Project** (check info in the Readme), the goal is:\n",
    "\n",
    "- Get an Analysis solution for spanish languaje. Compare it with the Sentiment metrics provided by Gdelt.\n",
    "- Automate it in Google Cloud Platform.\n",
    "- Plot results with a sweet Data Studio dashboard.\n",
    "\n",
    "![ Alt text](https://thumbs.gfycat.com/LeafyVibrantFreshwatereel-small.gif)\n",
    "\n",
    "- Well, this dataset cost me 2.15€, let's see what I've brought from BigQuery."
   ]
  },
  {
   "cell_type": "code",
   "execution_count": 136,
   "metadata": {},
   "outputs": [],
   "source": [
    "import pandas as pd\n",
    "import re "
   ]
  },
  {
   "cell_type": "code",
   "execution_count": 137,
   "metadata": {},
   "outputs": [
    {
     "data": {
      "text/html": [
       "<div>\n",
       "<style scoped>\n",
       "    .dataframe tbody tr th:only-of-type {\n",
       "        vertical-align: middle;\n",
       "    }\n",
       "\n",
       "    .dataframe tbody tr th {\n",
       "        vertical-align: top;\n",
       "    }\n",
       "\n",
       "    .dataframe thead th {\n",
       "        text-align: right;\n",
       "    }\n",
       "</style>\n",
       "<table border=\"1\" class=\"dataframe\">\n",
       "  <thead>\n",
       "    <tr style=\"text-align: right;\">\n",
       "      <th></th>\n",
       "      <th>Date</th>\n",
       "      <th>SourceCommonName</th>\n",
       "      <th>DocumentIdentifier</th>\n",
       "      <th>Sentiment</th>\n",
       "      <th>news_in_Spain</th>\n",
       "    </tr>\n",
       "  </thead>\n",
       "  <tbody>\n",
       "    <tr>\n",
       "      <th>0</th>\n",
       "      <td>2019-01-24</td>\n",
       "      <td>ideal.es</td>\n",
       "      <td>https://www.ideal.es/economia/taxistas-barcelo...</td>\n",
       "      <td>-4.25</td>\n",
       "      <td>desempleo</td>\n",
       "    </tr>\n",
       "    <tr>\n",
       "      <th>1</th>\n",
       "      <td>2019-01-24</td>\n",
       "      <td>publico.es</td>\n",
       "      <td>https://www.publico.es/sociedad/proteccion-dat...</td>\n",
       "      <td>-3.22</td>\n",
       "      <td>desempleo</td>\n",
       "    </tr>\n",
       "    <tr>\n",
       "      <th>2</th>\n",
       "      <td>2019-01-24</td>\n",
       "      <td>regio7.cat</td>\n",
       "      <td>https://www.regio7.cat/arreu-catalunya-espanya...</td>\n",
       "      <td>-3.23</td>\n",
       "      <td>desempleo</td>\n",
       "    </tr>\n",
       "    <tr>\n",
       "      <th>3</th>\n",
       "      <td>2019-01-24</td>\n",
       "      <td>larioja.com</td>\n",
       "      <td>https://www.larioja.com/economia/taxistas-barc...</td>\n",
       "      <td>-4.25</td>\n",
       "      <td>desempleo</td>\n",
       "    </tr>\n",
       "    <tr>\n",
       "      <th>4</th>\n",
       "      <td>2019-01-24</td>\n",
       "      <td>vilaweb.cat</td>\n",
       "      <td>https://www.vilaweb.cat/noticies/els-taxistes-...</td>\n",
       "      <td>-3.26</td>\n",
       "      <td>desempleo</td>\n",
       "    </tr>\n",
       "    <tr>\n",
       "      <th>...</th>\n",
       "      <td>...</td>\n",
       "      <td>...</td>\n",
       "      <td>...</td>\n",
       "      <td>...</td>\n",
       "      <td>...</td>\n",
       "    </tr>\n",
       "    <tr>\n",
       "      <th>6792</th>\n",
       "      <td>2020-06-18</td>\n",
       "      <td>regiondigital.com</td>\n",
       "      <td>http://regiondigital.com/noticias/economia/329...</td>\n",
       "      <td>0.70</td>\n",
       "      <td>desempleo</td>\n",
       "    </tr>\n",
       "    <tr>\n",
       "      <th>6793</th>\n",
       "      <td>2020-06-18</td>\n",
       "      <td>elconfidencial.com</td>\n",
       "      <td>https://www.elconfidencial.com/espana/2020-06-...</td>\n",
       "      <td>-0.07</td>\n",
       "      <td>desempleo</td>\n",
       "    </tr>\n",
       "    <tr>\n",
       "      <th>6794</th>\n",
       "      <td>2020-06-18</td>\n",
       "      <td>elconfidencial.com</td>\n",
       "      <td>https://blogs.elconfidencial.com/economia/cons...</td>\n",
       "      <td>-0.13</td>\n",
       "      <td>desempleo</td>\n",
       "    </tr>\n",
       "    <tr>\n",
       "      <th>6795</th>\n",
       "      <td>2020-06-18</td>\n",
       "      <td>libertaddigital.com</td>\n",
       "      <td>https://www.libertaddigital.com/espana/2020-06...</td>\n",
       "      <td>-5.05</td>\n",
       "      <td>desempleo</td>\n",
       "    </tr>\n",
       "    <tr>\n",
       "      <th>6796</th>\n",
       "      <td>2020-06-18</td>\n",
       "      <td>laopiniondemalaga.es</td>\n",
       "      <td>https://www.laopiniondemalaga.es/andalucia/202...</td>\n",
       "      <td>0.00</td>\n",
       "      <td>desempleo</td>\n",
       "    </tr>\n",
       "  </tbody>\n",
       "</table>\n",
       "<p>6797 rows × 5 columns</p>\n",
       "</div>"
      ],
      "text/plain": [
       "            Date      SourceCommonName  \\\n",
       "0     2019-01-24              ideal.es   \n",
       "1     2019-01-24            publico.es   \n",
       "2     2019-01-24            regio7.cat   \n",
       "3     2019-01-24           larioja.com   \n",
       "4     2019-01-24           vilaweb.cat   \n",
       "...          ...                   ...   \n",
       "6792  2020-06-18     regiondigital.com   \n",
       "6793  2020-06-18    elconfidencial.com   \n",
       "6794  2020-06-18    elconfidencial.com   \n",
       "6795  2020-06-18   libertaddigital.com   \n",
       "6796  2020-06-18  laopiniondemalaga.es   \n",
       "\n",
       "                                     DocumentIdentifier  Sentiment  \\\n",
       "0     https://www.ideal.es/economia/taxistas-barcelo...      -4.25   \n",
       "1     https://www.publico.es/sociedad/proteccion-dat...      -3.22   \n",
       "2     https://www.regio7.cat/arreu-catalunya-espanya...      -3.23   \n",
       "3     https://www.larioja.com/economia/taxistas-barc...      -4.25   \n",
       "4     https://www.vilaweb.cat/noticies/els-taxistes-...      -3.26   \n",
       "...                                                 ...        ...   \n",
       "6792  http://regiondigital.com/noticias/economia/329...       0.70   \n",
       "6793  https://www.elconfidencial.com/espana/2020-06-...      -0.07   \n",
       "6794  https://blogs.elconfidencial.com/economia/cons...      -0.13   \n",
       "6795  https://www.libertaddigital.com/espana/2020-06...      -5.05   \n",
       "6796  https://www.laopiniondemalaga.es/andalucia/202...       0.00   \n",
       "\n",
       "     news_in_Spain  \n",
       "0        desempleo  \n",
       "1        desempleo  \n",
       "2        desempleo  \n",
       "3        desempleo  \n",
       "4        desempleo  \n",
       "...            ...  \n",
       "6792     desempleo  \n",
       "6793     desempleo  \n",
       "6794     desempleo  \n",
       "6795     desempleo  \n",
       "6796     desempleo  \n",
       "\n",
       "[6797 rows x 5 columns]"
      ]
     },
     "execution_count": 137,
     "metadata": {},
     "output_type": "execute_result"
    }
   ],
   "source": [
    "df = pd.read_csv(\"input/sentiment_analysis_160221.csv\")\n",
    "df"
   ]
  },
  {
   "cell_type": "markdown",
   "metadata": {},
   "source": [
    "- This is going to be fun. I have news in spanish, catalan, valencian ... Let's praise for there's no vask/gaellician\n",
    "\n",
    "### 1. Data cleaning.\n",
    "\n",
    "I need to extract as much info as possible from the column DocumentIdentifier, so I need to:\n",
    "- Clean the https://www./ thing.\n",
    "- Remove the name of the source.\n",
    "- Create a list with the words belonging to the url."
   ]
  },
  {
   "cell_type": "code",
   "execution_count": 212,
   "metadata": {},
   "outputs": [
    {
     "data": {
      "text/plain": [
       "Index(['date', 'source', 'url', 'gdelt_sentiment'], dtype='object')"
      ]
     },
     "execution_count": 212,
     "metadata": {},
     "output_type": "execute_result"
    }
   ],
   "source": [
    "df = pd.read_csv(\"input/sentiment_analysis_160221.csv\")\n",
    "df.drop(columns= 'news_in_Spain', inplace=True)\n",
    "df.rename(columns={'Date':\"date\",'SourceCommonName':\"source\",'DocumentIdentifier':\"url\",\n",
    "           \"Sentiment\":\"gdelt_sentiment\"},inplace=True)\n",
    "df.columns"
   ]
  },
  {
   "cell_type": "code",
   "execution_count": 214,
   "metadata": {},
   "outputs": [
    {
     "data": {
      "text/html": [
       "<div>\n",
       "<style scoped>\n",
       "    .dataframe tbody tr th:only-of-type {\n",
       "        vertical-align: middle;\n",
       "    }\n",
       "\n",
       "    .dataframe tbody tr th {\n",
       "        vertical-align: top;\n",
       "    }\n",
       "\n",
       "    .dataframe thead th {\n",
       "        text-align: right;\n",
       "    }\n",
       "</style>\n",
       "<table border=\"1\" class=\"dataframe\">\n",
       "  <thead>\n",
       "    <tr style=\"text-align: right;\">\n",
       "      <th></th>\n",
       "      <th>date</th>\n",
       "      <th>source</th>\n",
       "      <th>url</th>\n",
       "      <th>gdelt_sentiment</th>\n",
       "    </tr>\n",
       "  </thead>\n",
       "  <tbody>\n",
       "    <tr>\n",
       "      <th>0</th>\n",
       "      <td>2019-01-24</td>\n",
       "      <td>ideal.es</td>\n",
       "      <td>https://www./economia/taxistas-barcelona-desco...</td>\n",
       "      <td>-4.25</td>\n",
       "    </tr>\n",
       "    <tr>\n",
       "      <th>1</th>\n",
       "      <td>2019-01-24</td>\n",
       "      <td>publico.es</td>\n",
       "      <td>https://www./sociedad/proteccion-datos-aepd-pe...</td>\n",
       "      <td>-3.22</td>\n",
       "    </tr>\n",
       "  </tbody>\n",
       "</table>\n",
       "</div>"
      ],
      "text/plain": [
       "         date      source                                                url  \\\n",
       "0  2019-01-24    ideal.es  https://www./economia/taxistas-barcelona-desco...   \n",
       "1  2019-01-24  publico.es  https://www./sociedad/proteccion-datos-aepd-pe...   \n",
       "\n",
       "   gdelt_sentiment  \n",
       "0            -4.25  \n",
       "1            -3.22  "
      ]
     },
     "execution_count": 214,
     "metadata": {},
     "output_type": "execute_result"
    }
   ],
   "source": [
    "# removing the source from the url\n",
    "df[\"url\"] = [b.replace(a, '').strip() for a, b in zip(df[\"source\"], df[\"url\"])]\n",
    "df.head(2)"
   ]
  },
  {
   "cell_type": "code",
   "execution_count": 215,
   "metadata": {},
   "outputs": [
    {
     "data": {
      "text/html": [
       "<div>\n",
       "<style scoped>\n",
       "    .dataframe tbody tr th:only-of-type {\n",
       "        vertical-align: middle;\n",
       "    }\n",
       "\n",
       "    .dataframe tbody tr th {\n",
       "        vertical-align: top;\n",
       "    }\n",
       "\n",
       "    .dataframe thead th {\n",
       "        text-align: right;\n",
       "    }\n",
       "</style>\n",
       "<table border=\"1\" class=\"dataframe\">\n",
       "  <thead>\n",
       "    <tr style=\"text-align: right;\">\n",
       "      <th></th>\n",
       "      <th>date</th>\n",
       "      <th>source</th>\n",
       "      <th>url</th>\n",
       "      <th>gdelt_sentiment</th>\n",
       "    </tr>\n",
       "  </thead>\n",
       "  <tbody>\n",
       "    <tr>\n",
       "      <th>0</th>\n",
       "      <td>2019-01-24</td>\n",
       "      <td>ideal.es</td>\n",
       "      <td>economia/taxistas-barcelona-desconvocan-huelga...</td>\n",
       "      <td>-4.25</td>\n",
       "    </tr>\n",
       "    <tr>\n",
       "      <th>1</th>\n",
       "      <td>2019-01-24</td>\n",
       "      <td>publico.es</td>\n",
       "      <td>sociedad/proteccion-datos-aepd-perdona-multa-4...</td>\n",
       "      <td>-3.22</td>\n",
       "    </tr>\n",
       "  </tbody>\n",
       "</table>\n",
       "</div>"
      ],
      "text/plain": [
       "         date      source                                                url  \\\n",
       "0  2019-01-24    ideal.es  economia/taxistas-barcelona-desconvocan-huelga...   \n",
       "1  2019-01-24  publico.es  sociedad/proteccion-datos-aepd-perdona-multa-4...   \n",
       "\n",
       "   gdelt_sentiment  \n",
       "0            -4.25  \n",
       "1            -3.22  "
      ]
     },
     "execution_count": 215,
     "metadata": {},
     "output_type": "execute_result"
    }
   ],
   "source": [
    "# removing the internet protocol\n",
    "deleting_list=[\"https://www./\",\"http:///\",\"https:\",'http:',\"//www./\",\"///\",\"//www./\"]\n",
    "for d in deleting_list:\n",
    "    df[\"url\"]= [x.replace(d,\"\") for x in df[\"url\"]]\n",
    "df.head(2)"
   ]
  },
  {
   "cell_type": "code",
   "execution_count": 216,
   "metadata": {},
   "outputs": [
    {
     "data": {
      "text/html": [
       "<div>\n",
       "<style scoped>\n",
       "    .dataframe tbody tr th:only-of-type {\n",
       "        vertical-align: middle;\n",
       "    }\n",
       "\n",
       "    .dataframe tbody tr th {\n",
       "        vertical-align: top;\n",
       "    }\n",
       "\n",
       "    .dataframe thead th {\n",
       "        text-align: right;\n",
       "    }\n",
       "</style>\n",
       "<table border=\"1\" class=\"dataframe\">\n",
       "  <thead>\n",
       "    <tr style=\"text-align: right;\">\n",
       "      <th></th>\n",
       "      <th>date</th>\n",
       "      <th>source</th>\n",
       "      <th>url</th>\n",
       "      <th>gdelt_sentiment</th>\n",
       "    </tr>\n",
       "  </thead>\n",
       "  <tbody>\n",
       "    <tr>\n",
       "      <th>0</th>\n",
       "      <td>2019-01-24</td>\n",
       "      <td>ideal.es</td>\n",
       "      <td>[economia, taxistas, barcelona, desconvocan, h...</td>\n",
       "      <td>-4.25</td>\n",
       "    </tr>\n",
       "    <tr>\n",
       "      <th>1</th>\n",
       "      <td>2019-01-24</td>\n",
       "      <td>publico.es</td>\n",
       "      <td>[sociedad, proteccion, datos, aepd, perdona, m...</td>\n",
       "      <td>-3.22</td>\n",
       "    </tr>\n",
       "  </tbody>\n",
       "</table>\n",
       "</div>"
      ],
      "text/plain": [
       "         date      source                                                url  \\\n",
       "0  2019-01-24    ideal.es  [economia, taxistas, barcelona, desconvocan, h...   \n",
       "1  2019-01-24  publico.es  [sociedad, proteccion, datos, aepd, perdona, m...   \n",
       "\n",
       "   gdelt_sentiment  \n",
       "0            -4.25  \n",
       "1            -3.22  "
      ]
     },
     "execution_count": 216,
     "metadata": {},
     "output_type": "execute_result"
    }
   ],
   "source": [
    "# create a list of strings without symbols\n",
    "df[\"url\"]= [re.split('-|_|/|!|\\.', x)  for x in df[\"url\"]] \n",
    "df.head(2)"
   ]
  },
  {
   "cell_type": "code",
   "execution_count": 217,
   "metadata": {},
   "outputs": [],
   "source": [
    "def remove_numbers(list): \n",
    "    '''This function remove numbers from a list'''\n",
    "    pattern = '[0-9]'\n",
    "    list = [re.sub(pattern, '', i) for i in list] \n",
    "    return list"
   ]
  },
  {
   "cell_type": "code",
   "execution_count": 218,
   "metadata": {},
   "outputs": [],
   "source": [
    "# let's remove the numbers\n",
    "df[\"url\"]= [remove_numbers(x) for x in df[\"url\"]] \n",
    "\n",
    "# now let's remove the generated spaces\n",
    "df[\"url\"]=[' '.join(x).split() for x in df[\"url\"]]"
   ]
  },
  {
   "cell_type": "code",
   "execution_count": 219,
   "metadata": {},
   "outputs": [
    {
     "data": {
      "text/plain": [
       "0       [economia, taxistas, barcelona, desconvocan, h...\n",
       "1       [sociedad, proteccion, datos, aepd, perdona, m...\n",
       "2       [arreu, catalunya, espanya, mon, els, taxistes...\n",
       "3       [economia, taxistas, barcelona, desconvocan, h...\n",
       "4       [noticies, els, taxistes, desconvoquen, la, va...\n",
       "                              ...                        \n",
       "6792    [noticias, economia, mas, de, clientes, recibe...\n",
       "6793     [espana, mallorca, alemania, aplausos, turistas]\n",
       "6794    [blogs, economia, consultorio, laboral, erte, ...\n",
       "6795    [espana, la, salvaje, campana, de, acoso, y, d...\n",
       "6796    [andalucia, andalucia, permitira, abrir, zonas...\n",
       "Name: url, Length: 6797, dtype: object"
      ]
     },
     "execution_count": 219,
     "metadata": {},
     "output_type": "execute_result"
    }
   ],
   "source": [
    "df[\"url\"]"
   ]
  },
  {
   "cell_type": "markdown",
   "metadata": {},
   "source": [
    "### 2. Data processing.\n",
    "- Remove articles and redundant words.\n",
    "- Generate a column for each word counting their occurrences."
   ]
  },
  {
   "cell_type": "code",
   "execution_count": null,
   "metadata": {},
   "outputs": [],
   "source": []
  }
 ],
 "metadata": {
  "kernelspec": {
   "display_name": "mlsklearn",
   "language": "python",
   "name": "mlsklearn"
  },
  "language_info": {
   "codemirror_mode": {
    "name": "ipython",
    "version": 3
   },
   "file_extension": ".py",
   "mimetype": "text/x-python",
   "name": "python",
   "nbconvert_exporter": "python",
   "pygments_lexer": "ipython3",
   "version": "3.7.6"
  }
 },
 "nbformat": 4,
 "nbformat_minor": 4
}
